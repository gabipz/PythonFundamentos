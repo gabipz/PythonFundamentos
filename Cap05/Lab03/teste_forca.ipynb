{
 "cells": [
  {
   "cell_type": "code",
   "execution_count": 1,
   "metadata": {},
   "outputs": [],
   "source": [
    "word = 'macarrao'"
   ]
  },
  {
   "cell_type": "code",
   "execution_count": 37,
   "metadata": {},
   "outputs": [
    {
     "name": "stdout",
     "output_type": "stream",
     "text": [
      "_ _ _ _ _ _ _ _ "
     ]
    }
   ],
   "source": [
    "def word_space():\n",
    "    counter = 0\n",
    "    while counter < len(word):\n",
    "        print('_', end= \" \")\n",
    "        counter = counter + 1\n",
    "\n",
    "word_space()"
   ]
  },
  {
   "cell_type": "code",
   "execution_count": 50,
   "metadata": {},
   "outputs": [
    {
     "name": "stdout",
     "output_type": "stream",
     "text": [
      "[None, None, None, None, None, None, None, None]\n"
     ]
    }
   ],
   "source": [
    "list_space = []\n",
    "space = \"_ \"\n",
    "counter = 0\n",
    "while counter < len(word):\n",
    "    list_space[counter] = list_space.append(space)\n",
    "    counter = counter + 1\n",
    "    \n",
    "print(list_space)"
   ]
  },
  {
   "cell_type": "code",
   "execution_count": 16,
   "metadata": {},
   "outputs": [
    {
     "name": "stdout",
     "output_type": "stream",
     "text": [
      "['m', 'a', 'c', 'a', 'r', 'r', 'a', 'o']\n",
      "a\n"
     ]
    }
   ],
   "source": [
    "# Gerando uma lista com as letras contidas na palavra\n",
    "letter_word_list = [x for x in word]\n",
    "print(letter_word_list)\n",
    "print(letter_word_list[1])"
   ]
  },
  {
   "cell_type": "code",
   "execution_count": 12,
   "metadata": {},
   "outputs": [
    {
     "data": {
      "text/plain": [
       "[(0, 'm'),\n",
       " (1, 'a'),\n",
       " (2, 'c'),\n",
       " (3, 'a'),\n",
       " (4, 'r'),\n",
       " (5, 'r'),\n",
       " (6, 'a'),\n",
       " (7, 'o')]"
      ]
     },
     "execution_count": 12,
     "metadata": {},
     "output_type": "execute_result"
    }
   ],
   "source": [
    "\"\"\"\"\"\n",
    "# List Comprehension - colocar letras da palavra em lista\n",
    "letter_word_list = list(enumerate([x for x in word]))\n",
    "letter_word_list\n",
    "\"\"\"\""
   ]
  },
  {
   "cell_type": "code",
   "execution_count": 6,
   "metadata": {},
   "outputs": [
    {
     "name": "stdout",
     "output_type": "stream",
     "text": [
      "Insira uma letra: a\n"
     ]
    }
   ],
   "source": [
    "letter = str(input('Insira uma letra: '))"
   ]
  },
  {
   "cell_type": "code",
   "execution_count": null,
   "metadata": {},
   "outputs": [],
   "source": [
    "if letter in word:\n",
    "    for i in letter_word_list:\n",
    "        letter_word_list[i]\n",
    "        if letter_word_list[i] == list_space[i]:\n",
    "            return "
   ]
  },
  {
   "cell_type": "code",
   "execution_count": 7,
   "metadata": {},
   "outputs": [
    {
     "name": "stdout",
     "output_type": "stream",
     "text": [
      "tem\n"
     ]
    }
   ],
   "source": [
    "if letter in word:\n",
    "    print('tem')\n",
    "else: \n",
    "    print('não tem')"
   ]
  },
  {
   "cell_type": "code",
   "execution_count": null,
   "metadata": {},
   "outputs": [],
   "source": []
  }
 ],
 "metadata": {
  "kernelspec": {
   "display_name": "Python 3",
   "language": "python",
   "name": "python3"
  },
  "language_info": {
   "codemirror_mode": {
    "name": "ipython",
    "version": 3
   },
   "file_extension": ".py",
   "mimetype": "text/x-python",
   "name": "python",
   "nbconvert_exporter": "python",
   "pygments_lexer": "ipython3",
   "version": "3.7.4"
  }
 },
 "nbformat": 4,
 "nbformat_minor": 2
}
